{
 "cells": [
  {
   "cell_type": "markdown",
   "id": "6947d542",
   "metadata": {},
   "source": [
    "# Predict mushroom edibleness\n",
    "\n",
    "Predict whether a mushroom is **poisonous** or **edible**.\n",
    "1. Import modules\n",
    "2. Explore data\n",
    "3. Clean data if necessary (NaN values etc.)\n",
    "4. Split data into train and test sets\n",
    "5. Choose and train ML model\n",
    "6. Check model accuracy, precision, recall and f1 scores\n",
    "7. Perform Hyperparameter tuning if necessary, compare scores\n",
    "8. Build ML Pipeline"
   ]
  },
  {
   "cell_type": "code",
   "execution_count": 17,
   "id": "a237535f",
   "metadata": {},
   "outputs": [
    {
     "name": "stdout",
     "output_type": "stream",
     "text": [
      "Model Accuracy Score:  1.0\n",
      "Model Precision Score:  1.0\n",
      "Model Recall Score:  1.0\n",
      "Model F1 Score:  1.0\n"
     ]
    }
   ],
   "source": [
    "# 1. Imports\n",
    "\n",
    "import pandas as pd\n",
    "from sklearn.model_selection import train_test_split, GridSearchCV\n",
    "from sklearn.svm import SVC\n",
    "from sklearn.preprocessing import LabelEncoder, OneHotEncoder\n",
    "from sklearn.metrics import accuracy_score, precision_score, recall_score, f1_score\n",
    "\n",
    "# 2. Initial data exploration\n",
    "df = pd.read_csv('mushrooms.csv')\n",
    "#print(df.info())\n",
    "#print(df.head())\n",
    "\n",
    "# 3. Encode categorical data into numerical for use with ML models\n",
    "for i in df.columns:\n",
    "    df[i] = df[i].astype('category')\n",
    "    df[i] = df[i].cat.codes\n",
    "#print(df.info())\n",
    "#print(df.head())\n",
    "    \n",
    "# 4.1 Split data into X, y\n",
    "y = df['class']\n",
    "X = df.drop('class', axis=1)\n",
    "\n",
    "# 4.2 Split data into training and testing sets\n",
    "X_train, X_test, y_train, y_test = train_test_split(X, y, test_size = 0.2)\n",
    "\n",
    "# 5. Based on data types and number of samples the SVC model is chosen (default value for hyperparameter 'C' is 1)\n",
    "clf = SVC(C=1) \n",
    "clf.fit(X_train, y_train)\n",
    "\n",
    "# 6. Check model accuracy, precision, recall and f1 scores\n",
    "y_pred = clf.predict(X_test)\n",
    "\n",
    "print(\"Model Accuracy Score: \", accuracy_score(y_test, y_pred))\n",
    "print(\"Model Precision Score: \", precision_score(y_test, y_pred))\n",
    "print(\"Model Recall Score: \", recall_score(y_test, y_pred))\n",
    "print(\"Model F1 Score: \", f1_score(y_test, y_pred))"
   ]
  },
  {
   "cell_type": "code",
   "execution_count": 13,
   "id": "40dc3440",
   "metadata": {},
   "outputs": [
    {
     "name": "stdout",
     "output_type": "stream",
     "text": [
      "SVC(C=24)\n",
      "[{'C': 1}, {'C': 2}, {'C': 3}, {'C': 4}, {'C': 5}, {'C': 6}, {'C': 7}, {'C': 8}, {'C': 9}, {'C': 10}, {'C': 11}, {'C': 12}, {'C': 13}, {'C': 14}, {'C': 15}, {'C': 16}, {'C': 17}, {'C': 18}, {'C': 19}, {'C': 20}, {'C': 21}, {'C': 22}, {'C': 23}, {'C': 24}, {'C': 25}]\n",
      "[0.9889213  0.99369183 0.99707669 0.99830757 0.99892308 0.99892308\n",
      " 0.99907692 0.99923077 0.99938462 0.99938462 0.99938462 0.99953846\n",
      " 0.99953846 0.99953846 0.99953846 0.99953846 0.99953846 0.99953846\n",
      " 0.99953846 0.99953846 0.99953846 0.99953846 0.99953846 0.99984615\n",
      " 0.99984615]\n",
      "     C  Accuracy\n",
      "0    1  0.988921\n",
      "1    2  0.993692\n",
      "2    3  0.997077\n",
      "3    4  0.998308\n",
      "4    5  0.998923\n",
      "5    6  0.998923\n",
      "6    7  0.999077\n",
      "7    8  0.999231\n",
      "8    9  0.999385\n",
      "9   10  0.999385\n",
      "10  11  0.999385\n",
      "11  12  0.999538\n",
      "12  13  0.999538\n",
      "13  14  0.999538\n",
      "14  15  0.999538\n",
      "15  16  0.999538\n",
      "16  17  0.999538\n",
      "17  18  0.999538\n",
      "18  19  0.999538\n",
      "19  20  0.999538\n",
      "20  21  0.999538\n",
      "21  22  0.999538\n",
      "22  23  0.999538\n",
      "23  24  0.999846\n",
      "24  25  0.999846\n",
      "1.0\n"
     ]
    }
   ],
   "source": [
    "# 7. Hyperparameter tuning - find best value for 'C'\n",
    "#print(clf.get_params().keys())\n",
    "\n",
    "parameters = {'C': [x for x in range(1, 26)]}\n",
    "\n",
    "# Create and fit a GridSearchCV model\n",
    "gs = GridSearchCV(clf, parameters)\n",
    "gs.fit(X_train, y_train)\n",
    "\n",
    "# Show which hyperparameters performed the best\n",
    "print(gs.best_estimator_)\n",
    "\n",
    "# Print the the parameters and mean test score\n",
    "print(gs.cv_results_['params'])\n",
    "print(gs.cv_results_['mean_test_score'])\n",
    "\n",
    "# Create and print Pandas DataFrame\n",
    "cv_table = pd.concat([pd.DataFrame(gs.cv_results_['params']), pd.DataFrame(gs.cv_results_['mean_test_score'], columns=['Accuracy'])], axis=1)\n",
    "\n",
    "# This table displays the information more clearly.\n",
    "#cv_table = df.pivot(index = 'C', columns = 'penalty')\n",
    "print(cv_table)\n",
    "\n",
    "# Compute and print the accuracy, precision, recall and f1 scores of the model on best 'C'\n",
    "acc = gs.score(X_test, y_test)\n",
    "print(acc)\n"
   ]
  },
  {
   "cell_type": "code",
   "execution_count": null,
   "id": "7dbffbe2",
   "metadata": {},
   "outputs": [],
   "source": []
  }
 ],
 "metadata": {
  "kernelspec": {
   "display_name": "Python 3 (ipykernel)",
   "language": "python",
   "name": "python3"
  },
  "language_info": {
   "codemirror_mode": {
    "name": "ipython",
    "version": 3
   },
   "file_extension": ".py",
   "mimetype": "text/x-python",
   "name": "python",
   "nbconvert_exporter": "python",
   "pygments_lexer": "ipython3",
   "version": "3.9.13"
  }
 },
 "nbformat": 4,
 "nbformat_minor": 5
}
