{
 "cells": [
  {
   "cell_type": "markdown",
   "id": "6947d542",
   "metadata": {},
   "source": [
    "# Predict mushroom edibleness\n",
    "\n",
    "Predict whether a mushroom is **poisonous** or **edible**.\n",
    "1. Import modules\n",
    "2. Explore data\n",
    "3. Clean data if necessary (NaN values etc.)\n",
    "4. Split data into train and test sets\n",
    "5. Choose and train ML model\n",
    "6. Check model accuracy, precision, recall and f1 scores"
   ]
  },
  {
   "cell_type": "code",
   "execution_count": 19,
   "id": "b7300ad5",
   "metadata": {
    "scrolled": true
   },
   "outputs": [
    {
     "name": "stdout",
     "output_type": "stream",
     "text": [
      "<class 'pandas.core.frame.DataFrame'>\n",
      "RangeIndex: 8124 entries, 0 to 8123\n",
      "Data columns (total 23 columns):\n",
      " #   Column                    Non-Null Count  Dtype\n",
      "---  ------                    --------------  -----\n",
      " 0   class                     8124 non-null   int8 \n",
      " 1   cap-shape                 8124 non-null   int8 \n",
      " 2   cap-surface               8124 non-null   int8 \n",
      " 3   cap-color                 8124 non-null   int8 \n",
      " 4   bruises                   8124 non-null   int8 \n",
      " 5   odor                      8124 non-null   int8 \n",
      " 6   gill-attachment           8124 non-null   int8 \n",
      " 7   gill-spacing              8124 non-null   int8 \n",
      " 8   gill-size                 8124 non-null   int8 \n",
      " 9   gill-color                8124 non-null   int8 \n",
      " 10  stalk-shape               8124 non-null   int8 \n",
      " 11  stalk-root                8124 non-null   int8 \n",
      " 12  stalk-surface-above-ring  8124 non-null   int8 \n",
      " 13  stalk-surface-below-ring  8124 non-null   int8 \n",
      " 14  stalk-color-above-ring    8124 non-null   int8 \n",
      " 15  stalk-color-below-ring    8124 non-null   int8 \n",
      " 16  veil-type                 8124 non-null   int8 \n",
      " 17  veil-color                8124 non-null   int8 \n",
      " 18  ring-number               8124 non-null   int8 \n",
      " 19  ring-type                 8124 non-null   int8 \n",
      " 20  spore-print-color         8124 non-null   int8 \n",
      " 21  population                8124 non-null   int8 \n",
      " 22  habitat                   8124 non-null   int8 \n",
      "dtypes: int8(23)\n",
      "memory usage: 182.6 KB\n",
      "None\n",
      "0.9926153846153846\n"
     ]
    }
   ],
   "source": [
    "# 1. Imports\n",
    "\n",
    "import numpy as np\n",
    "import pandas as pd\n",
    "from sklearn.model_selection import train_test_split\n",
    "from sklearn.svm import SVC\n",
    "from sklearn.preprocessing import LabelEncoder, OneHotEncoder\n",
    "from sklearn.metrics import accuracy_score, precision_score, recall_score, f1_score\n",
    "\n",
    "# 2. Initial data exploration\n",
    "df = pd.read_csv('mushrooms.csv')\n",
    "#print(df.info())\n",
    "#print(df.head())\n",
    "\n",
    "# 3. Encode data into numerical type for use with ML models\n",
    "for i in df.columns:\n",
    "    df[i] = df[i].astype('category')\n",
    "    df[i] = df[i].cat.codes\n",
    "#print(df.info())\n",
    "#print(df.head())\n",
    "    \n",
    "# 4.1 Split X, y\n",
    "y = df['class']\n",
    "X = df.drop('class', axis=1)\n",
    "\n",
    "# 4.2 Split data into training and testing sets\n",
    "X_train, X_test, y_train, y_test = train_test_split(X, y, test_size = 0.2, random_state = 42)\n",
    "\n",
    "# 5. Based on data types and number of samples SVC linear model is chosen\n",
    "clf = SVC()\n",
    "clf.fit(X_train, y_train)\n",
    "\n",
    "# 6. Check model accuracy, precision, recall and f1 scores\n",
    "\n",
    "print(clf.score(X_test, y_test))\n",
    "print(accuracy_score)"
   ]
  },
  {
   "cell_type": "code",
   "execution_count": null,
   "id": "40dc3440",
   "metadata": {},
   "outputs": [],
   "source": []
  }
 ],
 "metadata": {
  "kernelspec": {
   "display_name": "Python 3 (ipykernel)",
   "language": "python",
   "name": "python3"
  },
  "language_info": {
   "codemirror_mode": {
    "name": "ipython",
    "version": 3
   },
   "file_extension": ".py",
   "mimetype": "text/x-python",
   "name": "python",
   "nbconvert_exporter": "python",
   "pygments_lexer": "ipython3",
   "version": "3.9.13"
  }
 },
 "nbformat": 4,
 "nbformat_minor": 5
}
