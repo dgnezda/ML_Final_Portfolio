{
 "cells": [
  {
   "cell_type": "markdown",
   "id": "6947d542",
   "metadata": {},
   "source": [
    "# Predict mushroom edibleness\n",
    "\n",
    "Predict whether a mushroom is **poisonous** or **edible**.\n",
    "1. Import modules\n",
    "2. Explore data\n",
    "3. Clean data if necessary (NaN values etc.)\n",
    "4. Split data into train and test sets\n",
    "5. Choose and train ML model\n",
    "6. Check model accuracy, precision, recall and f1 scores\n",
    "7. Perform Hyperparameter tuning if necessary, compare scores"
   ]
  },
  {
   "cell_type": "code",
   "execution_count": 20,
   "id": "b7300ad5",
   "metadata": {
    "scrolled": true
   },
   "outputs": [
    {
     "name": "stdout",
     "output_type": "stream",
     "text": [
      "Model Accuracy Score:  0.9926153846153846\n",
      "Model Precision Score:  0.9987046632124352\n",
      "Model Recall Score:  0.9859335038363172\n",
      "Model F1 Score:  0.9922779922779922\n"
     ]
    }
   ],
   "source": [
    "# 1. Imports\n",
    "\n",
    "import numpy as np\n",
    "import pandas as pd\n",
    "from sklearn.model_selection import train_test_split\n",
    "from sklearn.svm import SVC\n",
    "from sklearn.preprocessing import LabelEncoder, OneHotEncoder\n",
    "from sklearn.metrics import accuracy_score, precision_score, recall_score, f1_score\n",
    "\n",
    "# 2. Initial data exploration\n",
    "df = pd.read_csv('mushrooms.csv')\n",
    "#print(df.info())\n",
    "#print(df.head())\n",
    "\n",
    "# 3. Encode categorical data into numerical for use with ML models\n",
    "for i in df.columns:\n",
    "    df[i] = df[i].astype('category')\n",
    "    df[i] = df[i].cat.codes\n",
    "#print(df.info())\n",
    "#print(df.head())\n",
    "    \n",
    "# 4.1 Split data into X, y\n",
    "y = df['class']\n",
    "X = df.drop('class', axis=1)\n",
    "\n",
    "# 4.2 Split data into training and testing sets\n",
    "X_train, X_test, y_train, y_test = train_test_split(X, y, test_size = 0.2, random_state = 42)\n",
    "\n",
    "# 5. Based on data types and number of samples the SVC model is chosen\n",
    "clf = SVC()\n",
    "clf.fit(X_train, y_train)\n",
    "\n",
    "# 6. Check model accuracy, precision, recall and f1 scores\n",
    "y_pred = clf.predict(X_test)\n",
    "\n",
    "#print(clf.score(X_test, y_test))\n",
    "print(\"Model Accuracy Score: \", accuracy_score(y_test, y_pred))\n",
    "print(\"Model Precision Score: \", precision_score(y_test, y_pred))\n",
    "print(\"Model Recall Score: \", recall_score(y_test, y_pred))\n",
    "print(\"Model F1 Score: \", f1_score(y_test, y_pred))"
   ]
  },
  {
   "cell_type": "code",
   "execution_count": null,
   "id": "40dc3440",
   "metadata": {},
   "outputs": [],
   "source": []
  }
 ],
 "metadata": {
  "kernelspec": {
   "display_name": "Python 3 (ipykernel)",
   "language": "python",
   "name": "python3"
  },
  "language_info": {
   "codemirror_mode": {
    "name": "ipython",
    "version": 3
   },
   "file_extension": ".py",
   "mimetype": "text/x-python",
   "name": "python",
   "nbconvert_exporter": "python",
   "pygments_lexer": "ipython3",
   "version": "3.9.13"
  }
 },
 "nbformat": 4,
 "nbformat_minor": 5
}
